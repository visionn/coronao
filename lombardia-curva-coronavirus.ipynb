{
 "cells": [
  {
   "cell_type": "markdown",
   "metadata": {},
   "source": [
    "# Quando finirà il Coronavirus🦠?"
   ]
  },
  {
   "cell_type": "markdown",
   "metadata": {},
   "source": [
    "## **Analisi dell'andamento** del **Coronavirus** in Lombardia🌍 \n",
    "\n",
    "I dati🔢 provengono dalla repository ufficiale della Protezione Civile italiana e vengono aggiornati ogni giorno. https://github.com/pcm-dpc/COVID-19\n",
    "\n",
    "Costruito con Python e Jupyter Notebook"
   ]
  },
  {
   "cell_type": "code",
   "execution_count": 101,
   "metadata": {},
   "outputs": [],
   "source": [
    "import pandas as pd\n",
    "import numpy as np\n",
    "from datetime import timedelta\n",
    "from datetime import datetime\n",
    "from sklearn.metrics import mean_squared_error\n",
    "from scipy.optimize import curve_fit\n",
    "from scipy.optimize import fsolve\n",
    "import matplotlib.pyplot as plt\n",
    "\n",
    "%matplotlib inline"
   ]
  },
  {
   "cell_type": "markdown",
   "metadata": {},
   "source": [
    "## Recupero degli ultimi dati"
   ]
  },
  {
   "cell_type": "code",
   "execution_count": 102,
   "metadata": {},
   "outputs": [],
   "source": [
    "data = pd.read_json(\n",
    "    \"https://raw.githubusercontent.com/pcm-dpc/COVID-19/master/dati-json/dpc-covid19-ita-regioni.json\"\n",
    ")"
   ]
  },
  {
   "cell_type": "code",
   "execution_count": 103,
   "metadata": {},
   "outputs": [
    {
     "data": {
      "text/html": [
       "<div>\n",
       "<style scoped>\n",
       "    .dataframe tbody tr th:only-of-type {\n",
       "        vertical-align: middle;\n",
       "    }\n",
       "\n",
       "    .dataframe tbody tr th {\n",
       "        vertical-align: top;\n",
       "    }\n",
       "\n",
       "    .dataframe thead th {\n",
       "        text-align: right;\n",
       "    }\n",
       "</style>\n",
       "<table border=\"1\" class=\"dataframe\">\n",
       "  <thead>\n",
       "    <tr style=\"text-align: right;\">\n",
       "      <th></th>\n",
       "      <th>data</th>\n",
       "      <th>stato</th>\n",
       "      <th>codice_regione</th>\n",
       "      <th>denominazione_regione</th>\n",
       "      <th>lat</th>\n",
       "      <th>long</th>\n",
       "      <th>ricoverati_con_sintomi</th>\n",
       "      <th>terapia_intensiva</th>\n",
       "      <th>totale_ospedalizzati</th>\n",
       "      <th>isolamento_domiciliare</th>\n",
       "      <th>totale_positivi</th>\n",
       "      <th>variazione_totale_positivi</th>\n",
       "      <th>nuovi_positivi</th>\n",
       "      <th>dimessi_guariti</th>\n",
       "      <th>deceduti</th>\n",
       "      <th>totale_casi</th>\n",
       "      <th>tamponi</th>\n",
       "      <th>casi_testati</th>\n",
       "      <th>note_it</th>\n",
       "      <th>note_en</th>\n",
       "    </tr>\n",
       "  </thead>\n",
       "  <tbody>\n",
       "    <tr>\n",
       "      <th>0</th>\n",
       "      <td>2020-02-24T18:00:00</td>\n",
       "      <td>ITA</td>\n",
       "      <td>3</td>\n",
       "      <td>Lombardia</td>\n",
       "      <td>45.466794</td>\n",
       "      <td>9.190347</td>\n",
       "      <td>76</td>\n",
       "      <td>19</td>\n",
       "      <td>95</td>\n",
       "      <td>71</td>\n",
       "      <td>166</td>\n",
       "      <td>0</td>\n",
       "      <td>166</td>\n",
       "      <td>0</td>\n",
       "      <td>6</td>\n",
       "      <td>172</td>\n",
       "      <td>1463</td>\n",
       "      <td>NaN</td>\n",
       "      <td></td>\n",
       "      <td></td>\n",
       "    </tr>\n",
       "    <tr>\n",
       "      <th>1</th>\n",
       "      <td>2020-02-25T18:00:00</td>\n",
       "      <td>ITA</td>\n",
       "      <td>3</td>\n",
       "      <td>Lombardia</td>\n",
       "      <td>45.466794</td>\n",
       "      <td>9.190347</td>\n",
       "      <td>79</td>\n",
       "      <td>25</td>\n",
       "      <td>104</td>\n",
       "      <td>127</td>\n",
       "      <td>231</td>\n",
       "      <td>65</td>\n",
       "      <td>68</td>\n",
       "      <td>0</td>\n",
       "      <td>9</td>\n",
       "      <td>240</td>\n",
       "      <td>3700</td>\n",
       "      <td>NaN</td>\n",
       "      <td></td>\n",
       "      <td></td>\n",
       "    </tr>\n",
       "    <tr>\n",
       "      <th>2</th>\n",
       "      <td>2020-02-26T18:00:00</td>\n",
       "      <td>ITA</td>\n",
       "      <td>3</td>\n",
       "      <td>Lombardia</td>\n",
       "      <td>45.466794</td>\n",
       "      <td>9.190347</td>\n",
       "      <td>79</td>\n",
       "      <td>25</td>\n",
       "      <td>104</td>\n",
       "      <td>145</td>\n",
       "      <td>249</td>\n",
       "      <td>18</td>\n",
       "      <td>18</td>\n",
       "      <td>0</td>\n",
       "      <td>9</td>\n",
       "      <td>258</td>\n",
       "      <td>3208</td>\n",
       "      <td>NaN</td>\n",
       "      <td></td>\n",
       "      <td></td>\n",
       "    </tr>\n",
       "    <tr>\n",
       "      <th>3</th>\n",
       "      <td>2020-02-27T18:00:00</td>\n",
       "      <td>ITA</td>\n",
       "      <td>3</td>\n",
       "      <td>Lombardia</td>\n",
       "      <td>45.466794</td>\n",
       "      <td>9.190347</td>\n",
       "      <td>172</td>\n",
       "      <td>41</td>\n",
       "      <td>213</td>\n",
       "      <td>136</td>\n",
       "      <td>349</td>\n",
       "      <td>100</td>\n",
       "      <td>145</td>\n",
       "      <td>40</td>\n",
       "      <td>14</td>\n",
       "      <td>403</td>\n",
       "      <td>3320</td>\n",
       "      <td>NaN</td>\n",
       "      <td></td>\n",
       "      <td></td>\n",
       "    </tr>\n",
       "    <tr>\n",
       "      <th>4</th>\n",
       "      <td>2020-02-28T18:00:00</td>\n",
       "      <td>ITA</td>\n",
       "      <td>3</td>\n",
       "      <td>Lombardia</td>\n",
       "      <td>45.466794</td>\n",
       "      <td>9.190347</td>\n",
       "      <td>235</td>\n",
       "      <td>47</td>\n",
       "      <td>282</td>\n",
       "      <td>192</td>\n",
       "      <td>474</td>\n",
       "      <td>125</td>\n",
       "      <td>128</td>\n",
       "      <td>40</td>\n",
       "      <td>17</td>\n",
       "      <td>531</td>\n",
       "      <td>4835</td>\n",
       "      <td>NaN</td>\n",
       "      <td></td>\n",
       "      <td></td>\n",
       "    </tr>\n",
       "    <tr>\n",
       "      <th>...</th>\n",
       "      <td>...</td>\n",
       "      <td>...</td>\n",
       "      <td>...</td>\n",
       "      <td>...</td>\n",
       "      <td>...</td>\n",
       "      <td>...</td>\n",
       "      <td>...</td>\n",
       "      <td>...</td>\n",
       "      <td>...</td>\n",
       "      <td>...</td>\n",
       "      <td>...</td>\n",
       "      <td>...</td>\n",
       "      <td>...</td>\n",
       "      <td>...</td>\n",
       "      <td>...</td>\n",
       "      <td>...</td>\n",
       "      <td>...</td>\n",
       "      <td>...</td>\n",
       "      <td>...</td>\n",
       "      <td>...</td>\n",
       "    </tr>\n",
       "    <tr>\n",
       "      <th>79</th>\n",
       "      <td>2020-05-13T17:00:00</td>\n",
       "      <td>ITA</td>\n",
       "      <td>3</td>\n",
       "      <td>Lombardia</td>\n",
       "      <td>45.466794</td>\n",
       "      <td>9.190347</td>\n",
       "      <td>5007</td>\n",
       "      <td>307</td>\n",
       "      <td>5314</td>\n",
       "      <td>24718</td>\n",
       "      <td>30032</td>\n",
       "      <td>-643</td>\n",
       "      <td>394</td>\n",
       "      <td>38081</td>\n",
       "      <td>15185</td>\n",
       "      <td>83298</td>\n",
       "      <td>524163</td>\n",
       "      <td>310896.0</td>\n",
       "      <td></td>\n",
       "      <td></td>\n",
       "    </tr>\n",
       "    <tr>\n",
       "      <th>80</th>\n",
       "      <td>2020-05-14T17:00:00</td>\n",
       "      <td>ITA</td>\n",
       "      <td>3</td>\n",
       "      <td>Lombardia</td>\n",
       "      <td>45.466794</td>\n",
       "      <td>9.190347</td>\n",
       "      <td>4818</td>\n",
       "      <td>297</td>\n",
       "      <td>5115</td>\n",
       "      <td>24841</td>\n",
       "      <td>29956</td>\n",
       "      <td>-76</td>\n",
       "      <td>522</td>\n",
       "      <td>38568</td>\n",
       "      <td>15296</td>\n",
       "      <td>83820</td>\n",
       "      <td>538243</td>\n",
       "      <td>318289.0</td>\n",
       "      <td></td>\n",
       "      <td></td>\n",
       "    </tr>\n",
       "    <tr>\n",
       "      <th>81</th>\n",
       "      <td>2020-05-15T17:00:00</td>\n",
       "      <td>ITA</td>\n",
       "      <td>3</td>\n",
       "      <td>Lombardia</td>\n",
       "      <td>45.466794</td>\n",
       "      <td>9.190347</td>\n",
       "      <td>4705</td>\n",
       "      <td>276</td>\n",
       "      <td>4981</td>\n",
       "      <td>22765</td>\n",
       "      <td>27746</td>\n",
       "      <td>-2210</td>\n",
       "      <td>299</td>\n",
       "      <td>40962</td>\n",
       "      <td>15411</td>\n",
       "      <td>84119</td>\n",
       "      <td>550405</td>\n",
       "      <td>325071.0</td>\n",
       "      <td></td>\n",
       "      <td></td>\n",
       "    </tr>\n",
       "    <tr>\n",
       "      <th>82</th>\n",
       "      <td>2020-05-16T17:00:00</td>\n",
       "      <td>ITA</td>\n",
       "      <td>3</td>\n",
       "      <td>Lombardia</td>\n",
       "      <td>45.466794</td>\n",
       "      <td>9.190347</td>\n",
       "      <td>4521</td>\n",
       "      <td>268</td>\n",
       "      <td>4789</td>\n",
       "      <td>22890</td>\n",
       "      <td>27679</td>\n",
       "      <td>-67</td>\n",
       "      <td>399</td>\n",
       "      <td>41389</td>\n",
       "      <td>15450</td>\n",
       "      <td>84518</td>\n",
       "      <td>564550</td>\n",
       "      <td>333243.0</td>\n",
       "      <td></td>\n",
       "      <td></td>\n",
       "    </tr>\n",
       "    <tr>\n",
       "      <th>83</th>\n",
       "      <td>2020-05-17T17:00:00</td>\n",
       "      <td>ITA</td>\n",
       "      <td>3</td>\n",
       "      <td>Lombardia</td>\n",
       "      <td>45.466794</td>\n",
       "      <td>9.190347</td>\n",
       "      <td>4480</td>\n",
       "      <td>255</td>\n",
       "      <td>4735</td>\n",
       "      <td>22695</td>\n",
       "      <td>27430</td>\n",
       "      <td>-249</td>\n",
       "      <td>326</td>\n",
       "      <td>41895</td>\n",
       "      <td>15519</td>\n",
       "      <td>84844</td>\n",
       "      <td>576359</td>\n",
       "      <td>340164.0</td>\n",
       "      <td></td>\n",
       "      <td></td>\n",
       "    </tr>\n",
       "  </tbody>\n",
       "</table>\n",
       "<p>84 rows × 20 columns</p>\n",
       "</div>"
      ],
      "text/plain": [
       "                   data stato  codice_regione denominazione_regione  \\\n",
       "0   2020-02-24T18:00:00   ITA               3             Lombardia   \n",
       "1   2020-02-25T18:00:00   ITA               3             Lombardia   \n",
       "2   2020-02-26T18:00:00   ITA               3             Lombardia   \n",
       "3   2020-02-27T18:00:00   ITA               3             Lombardia   \n",
       "4   2020-02-28T18:00:00   ITA               3             Lombardia   \n",
       "..                  ...   ...             ...                   ...   \n",
       "79  2020-05-13T17:00:00   ITA               3             Lombardia   \n",
       "80  2020-05-14T17:00:00   ITA               3             Lombardia   \n",
       "81  2020-05-15T17:00:00   ITA               3             Lombardia   \n",
       "82  2020-05-16T17:00:00   ITA               3             Lombardia   \n",
       "83  2020-05-17T17:00:00   ITA               3             Lombardia   \n",
       "\n",
       "          lat      long  ricoverati_con_sintomi  terapia_intensiva  \\\n",
       "0   45.466794  9.190347                      76                 19   \n",
       "1   45.466794  9.190347                      79                 25   \n",
       "2   45.466794  9.190347                      79                 25   \n",
       "3   45.466794  9.190347                     172                 41   \n",
       "4   45.466794  9.190347                     235                 47   \n",
       "..        ...       ...                     ...                ...   \n",
       "79  45.466794  9.190347                    5007                307   \n",
       "80  45.466794  9.190347                    4818                297   \n",
       "81  45.466794  9.190347                    4705                276   \n",
       "82  45.466794  9.190347                    4521                268   \n",
       "83  45.466794  9.190347                    4480                255   \n",
       "\n",
       "    totale_ospedalizzati  isolamento_domiciliare  totale_positivi  \\\n",
       "0                     95                      71              166   \n",
       "1                    104                     127              231   \n",
       "2                    104                     145              249   \n",
       "3                    213                     136              349   \n",
       "4                    282                     192              474   \n",
       "..                   ...                     ...              ...   \n",
       "79                  5314                   24718            30032   \n",
       "80                  5115                   24841            29956   \n",
       "81                  4981                   22765            27746   \n",
       "82                  4789                   22890            27679   \n",
       "83                  4735                   22695            27430   \n",
       "\n",
       "    variazione_totale_positivi  nuovi_positivi  dimessi_guariti  deceduti  \\\n",
       "0                            0             166                0         6   \n",
       "1                           65              68                0         9   \n",
       "2                           18              18                0         9   \n",
       "3                          100             145               40        14   \n",
       "4                          125             128               40        17   \n",
       "..                         ...             ...              ...       ...   \n",
       "79                        -643             394            38081     15185   \n",
       "80                         -76             522            38568     15296   \n",
       "81                       -2210             299            40962     15411   \n",
       "82                         -67             399            41389     15450   \n",
       "83                        -249             326            41895     15519   \n",
       "\n",
       "    totale_casi  tamponi  casi_testati note_it note_en  \n",
       "0           172     1463           NaN                  \n",
       "1           240     3700           NaN                  \n",
       "2           258     3208           NaN                  \n",
       "3           403     3320           NaN                  \n",
       "4           531     4835           NaN                  \n",
       "..          ...      ...           ...     ...     ...  \n",
       "79        83298   524163      310896.0                  \n",
       "80        83820   538243      318289.0                  \n",
       "81        84119   550405      325071.0                  \n",
       "82        84518   564550      333243.0                  \n",
       "83        84844   576359      340164.0                  \n",
       "\n",
       "[84 rows x 20 columns]"
      ]
     },
     "execution_count": 103,
     "metadata": {},
     "output_type": "execute_result"
    }
   ],
   "source": [
    "data = data[data.denominazione_regione == \"Lombardia\"]\n",
    "data = data.reset_index(drop=True)\n",
    "data"
   ]
  },
  {
   "cell_type": "code",
   "execution_count": 104,
   "metadata": {},
   "outputs": [
    {
     "name": "stdout",
     "output_type": "stream",
     "text": [
      "Dati degli ultimi sette giorni📅\n"
     ]
    },
    {
     "data": {
      "text/html": [
       "<div>\n",
       "<style scoped>\n",
       "    .dataframe tbody tr th:only-of-type {\n",
       "        vertical-align: middle;\n",
       "    }\n",
       "\n",
       "    .dataframe tbody tr th {\n",
       "        vertical-align: top;\n",
       "    }\n",
       "\n",
       "    .dataframe thead th {\n",
       "        text-align: right;\n",
       "    }\n",
       "</style>\n",
       "<table border=\"1\" class=\"dataframe\">\n",
       "  <thead>\n",
       "    <tr style=\"text-align: right;\">\n",
       "      <th></th>\n",
       "      <th>data</th>\n",
       "      <th>totale_casi</th>\n",
       "    </tr>\n",
       "  </thead>\n",
       "  <tbody>\n",
       "    <tr>\n",
       "      <th>77</th>\n",
       "      <td>131</td>\n",
       "      <td>81871</td>\n",
       "    </tr>\n",
       "    <tr>\n",
       "      <th>78</th>\n",
       "      <td>132</td>\n",
       "      <td>82904</td>\n",
       "    </tr>\n",
       "    <tr>\n",
       "      <th>79</th>\n",
       "      <td>133</td>\n",
       "      <td>83298</td>\n",
       "    </tr>\n",
       "    <tr>\n",
       "      <th>80</th>\n",
       "      <td>134</td>\n",
       "      <td>83820</td>\n",
       "    </tr>\n",
       "    <tr>\n",
       "      <th>81</th>\n",
       "      <td>135</td>\n",
       "      <td>84119</td>\n",
       "    </tr>\n",
       "    <tr>\n",
       "      <th>82</th>\n",
       "      <td>136</td>\n",
       "      <td>84518</td>\n",
       "    </tr>\n",
       "    <tr>\n",
       "      <th>83</th>\n",
       "      <td>137</td>\n",
       "      <td>84844</td>\n",
       "    </tr>\n",
       "  </tbody>\n",
       "</table>\n",
       "</div>"
      ],
      "text/plain": [
       "    data  totale_casi\n",
       "77   131        81871\n",
       "78   132        82904\n",
       "79   133        83298\n",
       "80   134        83820\n",
       "81   135        84119\n",
       "82   136        84518\n",
       "83   137        84844"
      ]
     },
     "execution_count": 104,
     "metadata": {},
     "output_type": "execute_result"
    }
   ],
   "source": [
    "\n",
    "\n",
    "data = data.loc[:, [\"data\", \"totale_casi\"]]\n",
    "FMT = \"%Y-%m-%dT%H:%M:%S\"\n",
    "data[\"data\"] = data[\"data\"].map(\n",
    "    lambda x: (\n",
    "        datetime.strptime(x, FMT) - datetime.strptime(\"2020-01-01T00:00:00\", FMT)\n",
    "    ).days\n",
    ")\n",
    "print(\"Dati degli ultimi sette giorni📅\")\n",
    "data[-7:]"
   ]
  },
  {
   "cell_type": "markdown",
   "metadata": {},
   "source": [
    "## Calcolo funzione logistica"
   ]
  },
  {
   "cell_type": "markdown",
   "metadata": {},
   "source": [
    "### La funzione utilizzata è una funzione sigmoidale\n",
    "$$f(x; a, b, c) = \\frac{c}{1 + e ^ -\\dfrac{x - b}{a}}$$\n",
    "\n",
    "**Vengono passati tre parametri:**\n",
    "- **a**: Velocità dell'infezione (inizialmente 1)\n",
    "- **b**: Il giorno del massimo delle infezioni\n",
    "- **c**: Il numero totale di persone infette\n",
    "\n",
    "La funzione è ricorsiva, ovvero richiama se stessa all'infinito fino a quando non si raggiunge un valore minimo -nel nostro caso 0, che corrisponde al totale appiattimento della curva."
   ]
  },
  {
   "cell_type": "code",
   "execution_count": 105,
   "metadata": {},
   "outputs": [],
   "source": [
    "def logistic_model(x, a, b, c):\n",
    "    return c / (1 + np.exp(-(x - b) / a))"
   ]
  },
  {
   "cell_type": "code",
   "execution_count": 106,
   "metadata": {},
   "outputs": [],
   "source": [
    "x = list(data.iloc[:, 0])\n",
    "y = list(data.iloc[:, 1])\n",
    "fit = curve_fit(logistic_model, x, y, p0=[1, max(x), max(y)])\n",
    "\n",
    "speed, x_peak, y_max = fit[0]"
   ]
  },
  {
   "cell_type": "markdown",
   "metadata": {},
   "source": [
    "### Trovo il picco"
   ]
  },
  {
   "cell_type": "markdown",
   "metadata": {},
   "source": [
    "Dalla funzione logistica sono stati ricavati tre vettori che rappresentano l'andamento della curva giorno per giorno: \n",
    "- Velocità di crescita (speed)\n",
    "- Punto di massimo sull'asse X (x_peak)\n",
    "- Punto di massimo sull'asse Y (y_peak)\n",
    "\n",
    "Con questi valori è possibile calcolare il punto della fine dell'epidemia. Per farlo viene inserito il punto x nella funzione e si ricava y. \n",
    "Per farlo si utilizza la funzione **fsolve** (trova le radici di una funzione non lineare) la quale prende come parametri la funzione (nel nostro caso la curva) e un punto di massimo sull'asse x. "
   ]
  },
  {
   "cell_type": "code",
   "execution_count": 107,
   "metadata": {},
   "outputs": [
    {
     "data": {
      "text/plain": [
       "224"
      ]
     },
     "execution_count": 107,
     "metadata": {},
     "output_type": "execute_result"
    }
   ],
   "source": [
    "end = int(\n",
    "    fsolve(lambda x: logistic_model(x, speed, x_peak, y_max) - int(y_max), x_peak)\n",
    ")\n",
    "end"
   ]
  },
  {
   "cell_type": "markdown",
   "metadata": {},
   "source": [
    "### Grafico"
   ]
  },
  {
   "cell_type": "code",
   "execution_count": 108,
   "metadata": {},
   "outputs": [
    {
     "data": {
      "image/png": "[encoded data removed]",
      "text/plain": [
       "<Figure size 504x504 with 1 Axes>"
      ]
     },
     "metadata": {
      "needs_background": "light"
     },
     "output_type": "display_data"
    }
   ],
   "source": [
    "pred_x = list(range(max(x), end))\n",
    "\n",
    "def plot_curve(x_axis, logistic_data):\n",
    "    plt.rcParams[\"figure.figsize\"] = [7, 7]\n",
    "    plt.rc(\"font\", size=14)\n",
    "    # Real data\n",
    "    plt.scatter(x, y, label=\"Dati reali\", color=\"red\")\n",
    "    # Predicted logistic curve\n",
    "    plt.plot(\n",
    "        x_axis,\n",
    "        logistic_data,\n",
    "        linewidth=3,\n",
    "        label=\"Funzione logistica\",\n",
    "    )\n",
    "    plt.axhline(\n",
    "        y=max(logistic_data),\n",
    "        color=\"blue\",\n",
    "        linestyle=\"dashed\",\n",
    "        alpha=0.7,\n",
    "        linewidth=1.5,\n",
    "        label=\"Limite naturale\",\n",
    "    )\n",
    "\n",
    "    plt.legend()\n",
    "    plt.xlabel(\"Giorni dal 1 Gennaio 2020\")\n",
    "    plt.ylabel(\"Numero totale infetti\")\n",
    "    plt.title(\"Curva logistica\")\n",
    "    plt.ylim((min(y) * 0.9, y_max * 1.1))\n",
    "    plt.show()\n",
    "\n",
    "\n",
    "plot_curve(x + pred_x, [logistic_model(i, fit[0][0], fit[0][1], fit[0][2]) for i in x + pred_x])"
   ]
  },
  {
   "cell_type": "markdown",
   "metadata": {},
   "source": [
    "È possibile osservare che la curva è formata da due rami: uno esponenziale (parte bassa) e uno logaritmico (parte alta). \n",
    "Il cambio di concavità avviene in centro nel punto di flesso.\n"
   ]
  },
  {
   "cell_type": "markdown",
   "metadata": {},
   "source": [
    "## Tasso di crescita"
   ]
  },
  {
   "cell_type": "markdown",
   "metadata": {},
   "source": [
    "### Calcolo"
   ]
  },
  {
   "cell_type": "code",
   "execution_count": 109,
   "metadata": {},
   "outputs": [
    {
     "data": {
      "text/html": [
       "<div>\n",
       "<style scoped>\n",
       "    .dataframe tbody tr th:only-of-type {\n",
       "        vertical-align: middle;\n",
       "    }\n",
       "\n",
       "    .dataframe tbody tr th {\n",
       "        vertical-align: top;\n",
       "    }\n",
       "\n",
       "    .dataframe thead th {\n",
       "        text-align: right;\n",
       "    }\n",
       "</style>\n",
       "<table border=\"1\" class=\"dataframe\">\n",
       "  <thead>\n",
       "    <tr style=\"text-align: right;\">\n",
       "      <th></th>\n",
       "      <th>data</th>\n",
       "      <th>totale_casi</th>\n",
       "      <th>differenza_giorno_precedente</th>\n",
       "      <th>tasso_crescita</th>\n",
       "    </tr>\n",
       "  </thead>\n",
       "  <tbody>\n",
       "    <tr>\n",
       "      <th>77</th>\n",
       "      <td>131</td>\n",
       "      <td>81871</td>\n",
       "      <td>364.0</td>\n",
       "      <td>0.4</td>\n",
       "    </tr>\n",
       "    <tr>\n",
       "      <th>78</th>\n",
       "      <td>132</td>\n",
       "      <td>82904</td>\n",
       "      <td>1033.0</td>\n",
       "      <td>1.3</td>\n",
       "    </tr>\n",
       "    <tr>\n",
       "      <th>79</th>\n",
       "      <td>133</td>\n",
       "      <td>83298</td>\n",
       "      <td>394.0</td>\n",
       "      <td>0.5</td>\n",
       "    </tr>\n",
       "    <tr>\n",
       "      <th>80</th>\n",
       "      <td>134</td>\n",
       "      <td>83820</td>\n",
       "      <td>522.0</td>\n",
       "      <td>0.6</td>\n",
       "    </tr>\n",
       "    <tr>\n",
       "      <th>81</th>\n",
       "      <td>135</td>\n",
       "      <td>84119</td>\n",
       "      <td>299.0</td>\n",
       "      <td>0.4</td>\n",
       "    </tr>\n",
       "    <tr>\n",
       "      <th>82</th>\n",
       "      <td>136</td>\n",
       "      <td>84518</td>\n",
       "      <td>399.0</td>\n",
       "      <td>0.5</td>\n",
       "    </tr>\n",
       "    <tr>\n",
       "      <th>83</th>\n",
       "      <td>137</td>\n",
       "      <td>84844</td>\n",
       "      <td>326.0</td>\n",
       "      <td>0.4</td>\n",
       "    </tr>\n",
       "  </tbody>\n",
       "</table>\n",
       "</div>"
      ],
      "text/plain": [
       "    data  totale_casi  differenza_giorno_precedente  tasso_crescita\n",
       "77   131        81871                         364.0             0.4\n",
       "78   132        82904                        1033.0             1.3\n",
       "79   133        83298                         394.0             0.5\n",
       "80   134        83820                         522.0             0.6\n",
       "81   135        84119                         299.0             0.4\n",
       "82   136        84518                         399.0             0.5\n",
       "83   137        84844                         326.0             0.4"
      ]
     },
     "execution_count": 109,
     "metadata": {},
     "output_type": "execute_result"
    }
   ],
   "source": [
    "data[\"differenza_giorno_precedente\"] = data.diff()[\"totale_casi\"]\n",
    "data[\"tasso_crescita\"] = round(\n",
    "    data[\"differenza_giorno_precedente\"]\n",
    "    / (data[\"totale_casi\"] - data[\"differenza_giorno_precedente\"])\n",
    "    * 100,\n",
    "    1,\n",
    ")\n",
    "data[\"tasso_crescita\"].fillna(0)\n",
    "data[\"data\"].fillna(0)\n",
    "data[-7:]"
   ]
  },
  {
   "cell_type": "markdown",
   "metadata": {},
   "source": [
    "### Aggiornamento dataframe con i dati ottenuti dalla funzione logistica"
   ]
  },
  {
   "cell_type": "code",
   "execution_count": 110,
   "metadata": {},
   "outputs": [],
   "source": [
    "d = {\n",
    "    \"data\": x + pred_x,\n",
    "    \"totale_casi\": [\n",
    "        logistic_model(i, fit[0][0], fit[0][1], fit[0][2]) for i in x + pred_x\n",
    "    ],\n",
    "}\n",
    "df = pd.DataFrame(data=d)\n",
    "df[\"differenza_giorno_precedente\"] = df.diff()[\"totale_casi\"]\n",
    "df[\"tasso_crescita\"] = round(\n",
    "    df[\"differenza_giorno_precedente\"]\n",
    "    / (df[\"totale_casi\"] - df[\"differenza_giorno_precedente\"])\n",
    "    * 100,\n",
    "    1,\n",
    ")\n",
    "merge = pd.concat([data, df[df.data > max(data[\"data\"])]])"
   ]
  },
  {
   "cell_type": "code",
   "execution_count": 111,
   "metadata": {},
   "outputs": [],
   "source": [
    "def get_day(day):\n",
    "    return datetime.strptime(\"2020-1-1\", \"%Y-%m-%d\") + timedelta(days=int(round(day)))"
   ]
  },
  {
   "cell_type": "markdown",
   "metadata": {},
   "source": [
    "### Grafico"
   ]
  },
  {
   "cell_type": "code",
   "execution_count": 112,
   "metadata": {
    "scrolled": true
   },
   "outputs": [
    {
     "data": {
      "image/png": "[encoded data removed]",
      "text/plain": [
       "<Figure size 864x360 with 1 Axes>"
      ]
     },
     "metadata": {
      "needs_background": "light"
     },
     "output_type": "display_data"
    }
   ],
   "source": [
    "def infection_grow(x, y):\n",
    "    plt.rc(\"font\", size=14)\n",
    "    plt.figure(figsize=(12, 5))\n",
    "    plt_axes = plt.gca()\n",
    "    plt_axes.grid(axis=\"y\", color=(0.4, 0.4, 0.4), alpha=0.2)\n",
    "    plt.stackplot(x, y, color=(0.92, 0.26, 0.21, 0.3), linewidth=0)\n",
    "    plt.plot(x, y, color=(0.92, 0.26, 0.21), linewidth=2)\n",
    "    plt.scatter(x, y, color=(0.92, 0.26, 0.21), label=\"Tasso di crescita %\", linewidth=3)\n",
    "    plt.xlim(int(min(x)), int(max(x) + 5))\n",
    "    plt.ylim(int(min(y)), int(max(y)) + 5)\n",
    "    plt.title(\n",
    "        \"Percentuale di crescita giornaliera in Lombardia da \"\n",
    "        + str(get_day(min(x)).date())\n",
    "        + \" a \"\n",
    "        + str(get_day(max(x)).date())\n",
    "    )\n",
    "    plt.xlabel(\"Giorni dall'1-1-2020\")\n",
    "    plt.ylabel(\"% Crescita\")\n",
    "    plt.legend()\n",
    "    plt.show()\n",
    "\n",
    "\n",
    "infection_grow(\n",
    "    merge[merge.tasso_crescita > 0][\"data\"].values.tolist(),\n",
    "    merge[merge.tasso_crescita > 0][\"tasso_crescita\"].values.tolist()\n",
    ")"
   ]
  },
  {
   "cell_type": "markdown",
   "metadata": {},
   "source": [
    "## Quando raggiungeremo la fine?"
   ]
  },
  {
   "cell_type": "code",
   "execution_count": 113,
   "metadata": {},
   "outputs": [
    {
     "name": "stdout",
     "output_type": "stream",
     "text": [
      "L'epidemia finirà in data 12 agosto 2020\n",
      "Il numero dei contagiati sarà di 81662\n",
      "Il picco è stato il 31 marzo 2020\n"
     ]
    }
   ],
   "source": [
    "end_date = datetime.strptime(\"2020-1-1\", \"%Y-%m-%d\") + timedelta(days=end)\n",
    "months = [\n",
    "    \"gennaio\",\n",
    "    \"febbraio\",\n",
    "    \"marzo\",\n",
    "    \"aprile\",\n",
    "    \"maggio\",\n",
    "    \"giugno\",\n",
    "    \"luglio\",\n",
    "    \"agosto\",\n",
    "    \"settembre\",\n",
    "    \"ottobre\",\n",
    "    \"novembre\",\n",
    "    \"dicembre\",\n",
    "]\n",
    "print(\n",
    "    \"L'epidemia finirà in data \"\n",
    "    + str(end_date.day)\n",
    "    + \" \"\n",
    "    + months[end_date.month - 1]\n",
    "    + \" \"\n",
    "    + str(end_date.year)\n",
    ")\n",
    "print(\"Il numero dei contagiati sarà di \" + str(int(round(y_max))))\n",
    "\n",
    "print(\n",
    "    \"Il picco è stato il \"\n",
    "    + str(get_day(x_peak).day)\n",
    "    + \" \"\n",
    "    + months[get_day(x_peak).month - 1]\n",
    "    + \" \"\n",
    "    + str(get_day(x_peak).year)\n",
    ")"
   ]
  },
  {
   "cell_type": "markdown",
   "metadata": {},
   "source": [
    "### Osservazioni\n",
    "La curva non rappresenta fedelmente la realtà a causa delle caratteristiche della malattia, che la rendono difficilmente individuabile prima della comparsa dei primi sintomi: molte persone sono portatori asintomatici.   \n",
    "A ciò, si aggiunge l'impossibilità di fare un censimento dei contagi su tutta la popolazione, perché cambiando il criterio tutti i dati verrebbero alterati.\n",
    "\n",
    "Altro problema che rende la curva distaccata dalla realtà, sono i dati dei primi giorni. Il primo caso è stato registrato a Codogno, ma la malattia potrebbe essere stata presente in altre zone qualche settimana prima, e ciò spiegherebbe la veloce diffusione nella prima fase."
   ]
  },
  {
   "cell_type": "code",
   "execution_count": 114,
   "metadata": {},
   "outputs": [
    {
     "data": {
      "image/png": "[encoded data removed]",
      "text/plain": [
       "<Figure size 864x360 with 1 Axes>"
      ]
     },
     "metadata": {
      "needs_background": "light"
     },
     "output_type": "display_data"
    }
   ],
   "source": [
    "infection_grow(\n",
    "    data[1:7][\"data\"].values.tolist(),\n",
    "    data[1:7][\"tasso_crescita\"].values.tolist(),\n",
    ")"
   ]
  },
  {
   "cell_type": "markdown",
   "metadata": {},
   "source": [
    "#### Report Aprile\n",
    "Osservando i dati degli ultimi giorni sembra che ci stiamo avvicinando all'asintoto della resistenza ambientale. Tuttavia non significa che siamo alla fine dell'isolamento, in quanto se le persone tornassero a circolare improvvisamente potrebbe esserci una ripresa dell'epidemia."
   ]
  },
  {
   "cell_type": "code",
   "execution_count": 115,
   "metadata": {},
   "outputs": [
    {
     "data": {
      "image/png": "[encoded data removed]",
      "text/plain": [
       "<Figure size 864x360 with 1 Axes>"
      ]
     },
     "metadata": {
      "needs_background": "light"
     },
     "output_type": "display_data"
    }
   ],
   "source": [
    "infection_grow(\n",
    "    data[37:67][\"data\"].values.tolist(),\n",
    "    data[37:67][\"tasso_crescita\"].values.tolist(),\n",
    ")"
   ]
  },
  {
   "cell_type": "markdown",
   "metadata": {},
   "source": [
    "#### Report da 4 a 17 Maggio\n",
    "Di recente è iniziata la fase 2, dove le misure del lockdown sono state allentate. Neglle ultime settimane il tasso di crescita è rimasto sotto l'1%.\n",
    "Ciò è un buon segnale, ma dovremo aspettare ancora questa settimana per confermare l'andamento."
   ]
  },
  {
   "cell_type": "code",
   "execution_count": 116,
   "metadata": {},
   "outputs": [
    {
     "data": {
      "image/png": "[encoded data removed]",
      "text/plain": [
       "<Figure size 864x360 with 1 Axes>"
      ]
     },
     "metadata": {
      "needs_background": "light"
     },
     "output_type": "display_data"
    }
   ],
   "source": [
    "infection_grow(\n",
    "    data[-7:84][\"data\"].values.tolist(),\n",
    "    data[-7:84][\"tasso_crescita\"].values.tolist(),\n",
    ")"
   ]
  },
  {
   "cell_type": "code",
   "execution_count": null,
   "metadata": {},
   "outputs": [],
   "source": []
  },
  {
   "cell_type": "code",
   "execution_count": null,
   "metadata": {},
   "outputs": [],
   "source": []
  },
  {
   "cell_type": "code",
   "execution_count": null,
   "metadata": {},
   "outputs": [],
   "source": []
  },
  {
   "cell_type": "code",
   "execution_count": null,
   "metadata": {},
   "outputs": [],
   "source": []
  }
 ],
 "metadata": {
  "kernelspec": {
   "display_name": "Python 3",
   "language": "python",
   "name": "python3"
  },
  "language_info": {
   "codemirror_mode": {
    "name": "ipython",
    "version": 3
   },
   "file_extension": ".py",
   "mimetype": "text/x-python",
   "name": "python",
   "nbconvert_exporter": "python",
   "pygments_lexer": "ipython3",
   "version": "3.7.3"
  }
 },
 "nbformat": 4,
 "nbformat_minor": 4
}
