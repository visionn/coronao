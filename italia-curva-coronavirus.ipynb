{
 "cells": [
  {
   "cell_type": "markdown",
   "metadata": {},
   "source": [
    "# Quando finirà il Coronavirus🦠?"
   ]
  },
  {
   "cell_type": "markdown",
   "metadata": {},
   "source": [
    "## **Analisi dell'andamento** del **Coronavirus** in Italia🌍 \n",
    "\n",
    "I dati🔢 provengono dalla repository ufficiale della Protezione Civile italiana e vengono aggiornati ogni giorno. https://github.com/pcm-dpc/COVID-19\n",
    "\n",
    "Costruito con Python e Jupyter Notebook"
   ]
  },
  {
   "cell_type": "code",
   "execution_count": 43,
   "metadata": {},
   "outputs": [],
   "source": [
    "import pandas as pd\n",
    "import numpy as np\n",
    "from datetime import timedelta\n",
    "from datetime import datetime\n",
    "from sklearn.metrics import mean_squared_error\n",
    "from scipy.optimize import curve_fit\n",
    "from scipy.optimize import fsolve\n",
    "import matplotlib.pyplot as plt\n",
    "\n",
    "%matplotlib inline"
   ]
  },
  {
   "cell_type": "markdown",
   "metadata": {},
   "source": [
    "## Recupero degli ultimi dati"
   ]
  },
  {
   "cell_type": "code",
   "execution_count": 44,
   "metadata": {},
   "outputs": [],
   "source": [
    "data = pd.read_json(\n",
    "    \"https://raw.githubusercontent.com/pcm-dpc/COVID-19/master/dati-json/dpc-covid19-ita-andamento-nazionale.json\"\n",
    ")"
   ]
  },
  {
   "cell_type": "code",
   "execution_count": 45,
   "metadata": {},
   "outputs": [
    {
     "name": "stdout",
     "output_type": "stream",
     "text": [
      "Dati degli ultimi sette giorni📅\n"
     ]
    },
    {
     "data": {
      "text/html": [
       "<div>\n",
       "<style scoped>\n",
       "    .dataframe tbody tr th:only-of-type {\n",
       "        vertical-align: middle;\n",
       "    }\n",
       "\n",
       "    .dataframe tbody tr th {\n",
       "        vertical-align: top;\n",
       "    }\n",
       "\n",
       "    .dataframe thead th {\n",
       "        text-align: right;\n",
       "    }\n",
       "</style>\n",
       "<table border=\"1\" class=\"dataframe\">\n",
       "  <thead>\n",
       "    <tr style=\"text-align: right;\">\n",
       "      <th></th>\n",
       "      <th>data</th>\n",
       "      <th>totale_casi</th>\n",
       "    </tr>\n",
       "  </thead>\n",
       "  <tbody>\n",
       "    <tr>\n",
       "      <th>77</th>\n",
       "      <td>131</td>\n",
       "      <td>219814</td>\n",
       "    </tr>\n",
       "    <tr>\n",
       "      <th>78</th>\n",
       "      <td>132</td>\n",
       "      <td>221216</td>\n",
       "    </tr>\n",
       "    <tr>\n",
       "      <th>79</th>\n",
       "      <td>133</td>\n",
       "      <td>222104</td>\n",
       "    </tr>\n",
       "    <tr>\n",
       "      <th>80</th>\n",
       "      <td>134</td>\n",
       "      <td>223096</td>\n",
       "    </tr>\n",
       "    <tr>\n",
       "      <th>81</th>\n",
       "      <td>135</td>\n",
       "      <td>223885</td>\n",
       "    </tr>\n",
       "    <tr>\n",
       "      <th>82</th>\n",
       "      <td>136</td>\n",
       "      <td>224760</td>\n",
       "    </tr>\n",
       "    <tr>\n",
       "      <th>83</th>\n",
       "      <td>137</td>\n",
       "      <td>225435</td>\n",
       "    </tr>\n",
       "  </tbody>\n",
       "</table>\n",
       "</div>"
      ],
      "text/plain": [
       "    data  totale_casi\n",
       "77   131       219814\n",
       "78   132       221216\n",
       "79   133       222104\n",
       "80   134       223096\n",
       "81   135       223885\n",
       "82   136       224760\n",
       "83   137       225435"
      ]
     },
     "execution_count": 45,
     "metadata": {},
     "output_type": "execute_result"
    }
   ],
   "source": [
    "data = data.loc[:, [\"data\", \"totale_casi\"]]\n",
    "FMT = \"%Y-%m-%dT%H:%M:%S\"\n",
    "data[\"data\"] = data[\"data\"].map(\n",
    "    lambda x: (\n",
    "        datetime.strptime(x, FMT) - datetime.strptime(\"2020-01-01T00:00:00\", FMT)\n",
    "    ).days\n",
    ")\n",
    "print(\"Dati degli ultimi sette giorni📅\")\n",
    "data[-7:]"
   ]
  },
  {
   "cell_type": "markdown",
   "metadata": {},
   "source": [
    "## Calcolo funzione logistica"
   ]
  },
  {
   "cell_type": "markdown",
   "metadata": {},
   "source": [
    "### La funzione utilizzata è una funzione sigmoidale\n",
    "$$f(x; a, b, c) = \\frac{c}{1 + e ^ -\\dfrac{x - b}{a}}$$\n",
    "\n",
    "**Vengono passati tre parametri:**\n",
    "- **a**: Velocità dell'infezione (inizialmente 1)\n",
    "- **b**: Il giorno del massimo delle infezioni\n",
    "- **c**: Il numero totale di persone infette\n",
    "\n",
    "La funzione è ricorsiva, ovvero richiama se stessa all'infinito fino a quando non si raggiunge un valore minimo -nel nostro caso 0, che corrisponde al totale appiattimento della curva."
   ]
  },
  {
   "cell_type": "code",
   "execution_count": 46,
   "metadata": {},
   "outputs": [],
   "source": [
    "def logistic_model(x, a, b, c):\n",
    "    return c / (1 + np.exp(-(x - b) / a))"
   ]
  },
  {
   "cell_type": "code",
   "execution_count": 47,
   "metadata": {},
   "outputs": [],
   "source": [
    "x = list(data.iloc[:, 0])\n",
    "y = list(data.iloc[:, 1])\n",
    "fit = curve_fit(logistic_model, x, y, p0=[1, max(x), max(y)])\n",
    "\n",
    "speed, x_peak, y_max = fit[0]"
   ]
  },
  {
   "cell_type": "markdown",
   "metadata": {},
   "source": [
    "### Trovo il picco"
   ]
  },
  {
   "cell_type": "markdown",
   "metadata": {},
   "source": [
    "Dalla funzione logistica sono stati ricavati tre vettori che rappresentano l'andamento della curva giorno per giorno: \n",
    "- Velocità di crescita (speed)\n",
    "- Punto di massimo sull'asse X (x_peak)\n",
    "- Punto di massimo sull'asse Y (y_peak)\n",
    "\n",
    "Con questi valori è possibile calcolare il punto della fine dell'epidemia. Per farlo viene inserito il punto x nella funzione e si ricava y. \n",
    "Per farlo si utilizza la funzione **fsolve** (trova le radici di una funzione non lineare) la quale prende come parametri la funzione (nel nostro caso la curva) e un punto di massimo sull'asse x. "
   ]
  },
  {
   "cell_type": "code",
   "execution_count": 48,
   "metadata": {},
   "outputs": [
    {
     "data": {
      "text/plain": [
       "249"
      ]
     },
     "execution_count": 48,
     "metadata": {},
     "output_type": "execute_result"
    }
   ],
   "source": [
    "end = int(\n",
    "    fsolve(lambda x: logistic_model(x, speed, x_peak, y_max) - int(y_max), x_peak)\n",
    ")\n",
    "end"
   ]
  },
  {
   "cell_type": "markdown",
   "metadata": {},
   "source": [
    "### Grafico"
   ]
  },
  {
   "cell_type": "code",
   "execution_count": 49,
   "metadata": {},
   "outputs": [
    {
     "data": {
      "image/png": "[encoded data removed]",
      "text/plain": [
       "<Figure size 504x504 with 1 Axes>"
      ]
     },
     "metadata": {
      "needs_background": "light"
     },
     "output_type": "display_data"
    }
   ],
   "source": [
    "pred_x = list(range(max(x), end))\n",
    "\n",
    "def plot_curve(x_axis, logistic_data):\n",
    "    plt.rcParams[\"figure.figsize\"] = [7, 7]\n",
    "    plt.rc(\"font\", size=14)\n",
    "    # Real data\n",
    "    plt.scatter(x, y, label=\"Dati reali\", color=\"red\")\n",
    "    # Predicted logistic curve\n",
    "    plt.plot(\n",
    "        x_axis,\n",
    "        logistic_data,\n",
    "        linewidth=3,\n",
    "        label=\"Funzione logistica\",\n",
    "    )\n",
    "    plt.axhline(\n",
    "        y=max(logistic_data),\n",
    "        color=\"blue\",\n",
    "        linestyle=\"dashed\",\n",
    "        alpha=0.7,\n",
    "        linewidth=1.5,\n",
    "        label=\"Limite naturale\",\n",
    "    )\n",
    "\n",
    "    plt.legend()\n",
    "    plt.xlabel(\"Giorni dal 1 Gennaio 2020\")\n",
    "    plt.ylabel(\"Numero totale infetti\")\n",
    "    plt.title(\"Curva logistica\")\n",
    "    plt.ylim((min(y) * 0.9, y_max * 1.1))\n",
    "    plt.show()\n",
    "\n",
    "\n",
    "plot_curve(x + pred_x, [logistic_model(i, fit[0][0], fit[0][1], fit[0][2]) for i in x + pred_x])"
   ]
  },
  {
   "cell_type": "markdown",
   "metadata": {},
   "source": [
    "È possibile osservare che la curva è formata da due rami: uno esponenziale (parte bassa) e uno logaritmico (parte alta). \n",
    "Il cambio di concavità avviene in centro nel punto di flesso.\n"
   ]
  },
  {
   "cell_type": "markdown",
   "metadata": {},
   "source": [
    "## Tasso di crescita"
   ]
  },
  {
   "cell_type": "markdown",
   "metadata": {},
   "source": [
    "### Calcolo"
   ]
  },
  {
   "cell_type": "code",
   "execution_count": 50,
   "metadata": {},
   "outputs": [
    {
     "data": {
      "text/html": [
       "<div>\n",
       "<style scoped>\n",
       "    .dataframe tbody tr th:only-of-type {\n",
       "        vertical-align: middle;\n",
       "    }\n",
       "\n",
       "    .dataframe tbody tr th {\n",
       "        vertical-align: top;\n",
       "    }\n",
       "\n",
       "    .dataframe thead th {\n",
       "        text-align: right;\n",
       "    }\n",
       "</style>\n",
       "<table border=\"1\" class=\"dataframe\">\n",
       "  <thead>\n",
       "    <tr style=\"text-align: right;\">\n",
       "      <th></th>\n",
       "      <th>data</th>\n",
       "      <th>totale_casi</th>\n",
       "      <th>differenza_giorno_precedente</th>\n",
       "      <th>tasso_crescita</th>\n",
       "    </tr>\n",
       "  </thead>\n",
       "  <tbody>\n",
       "    <tr>\n",
       "      <th>77</th>\n",
       "      <td>131</td>\n",
       "      <td>219814</td>\n",
       "      <td>744.0</td>\n",
       "      <td>0.3</td>\n",
       "    </tr>\n",
       "    <tr>\n",
       "      <th>78</th>\n",
       "      <td>132</td>\n",
       "      <td>221216</td>\n",
       "      <td>1402.0</td>\n",
       "      <td>0.6</td>\n",
       "    </tr>\n",
       "    <tr>\n",
       "      <th>79</th>\n",
       "      <td>133</td>\n",
       "      <td>222104</td>\n",
       "      <td>888.0</td>\n",
       "      <td>0.4</td>\n",
       "    </tr>\n",
       "    <tr>\n",
       "      <th>80</th>\n",
       "      <td>134</td>\n",
       "      <td>223096</td>\n",
       "      <td>992.0</td>\n",
       "      <td>0.4</td>\n",
       "    </tr>\n",
       "    <tr>\n",
       "      <th>81</th>\n",
       "      <td>135</td>\n",
       "      <td>223885</td>\n",
       "      <td>789.0</td>\n",
       "      <td>0.4</td>\n",
       "    </tr>\n",
       "    <tr>\n",
       "      <th>82</th>\n",
       "      <td>136</td>\n",
       "      <td>224760</td>\n",
       "      <td>875.0</td>\n",
       "      <td>0.4</td>\n",
       "    </tr>\n",
       "    <tr>\n",
       "      <th>83</th>\n",
       "      <td>137</td>\n",
       "      <td>225435</td>\n",
       "      <td>675.0</td>\n",
       "      <td>0.3</td>\n",
       "    </tr>\n",
       "  </tbody>\n",
       "</table>\n",
       "</div>"
      ],
      "text/plain": [
       "    data  totale_casi  differenza_giorno_precedente  tasso_crescita\n",
       "77   131       219814                         744.0             0.3\n",
       "78   132       221216                        1402.0             0.6\n",
       "79   133       222104                         888.0             0.4\n",
       "80   134       223096                         992.0             0.4\n",
       "81   135       223885                         789.0             0.4\n",
       "82   136       224760                         875.0             0.4\n",
       "83   137       225435                         675.0             0.3"
      ]
     },
     "execution_count": 50,
     "metadata": {},
     "output_type": "execute_result"
    }
   ],
   "source": [
    "data[\"differenza_giorno_precedente\"] = data.diff()[\"totale_casi\"]\n",
    "data[\"tasso_crescita\"] = round(\n",
    "    data[\"differenza_giorno_precedente\"]\n",
    "    / (data[\"totale_casi\"] - data[\"differenza_giorno_precedente\"])\n",
    "    * 100,\n",
    "    1,\n",
    ")\n",
    "data[\"tasso_crescita\"].fillna(0)\n",
    "data[\"data\"].fillna(0)\n",
    "data[-7:]"
   ]
  },
  {
   "cell_type": "markdown",
   "metadata": {},
   "source": [
    "### Aggiornamento dataframe con i dati ottenuti dalla funzione logistica"
   ]
  },
  {
   "cell_type": "code",
   "execution_count": 51,
   "metadata": {},
   "outputs": [],
   "source": [
    "d = {\n",
    "    \"data\": x + pred_x,\n",
    "    \"totale_casi\": [\n",
    "        logistic_model(i, fit[0][0], fit[0][1], fit[0][2]) for i in x + pred_x\n",
    "    ],\n",
    "}\n",
    "df = pd.DataFrame(data=d)\n",
    "df[\"differenza_giorno_precedente\"] = df.diff()[\"totale_casi\"]\n",
    "df[\"tasso_crescita\"] = round(\n",
    "    df[\"differenza_giorno_precedente\"]\n",
    "    / (df[\"totale_casi\"] - df[\"differenza_giorno_precedente\"])\n",
    "    * 100,\n",
    "    1,\n",
    ")\n",
    "merge = pd.concat([data, df[df.data > max(data[\"data\"])]])"
   ]
  },
  {
   "cell_type": "code",
   "execution_count": 52,
   "metadata": {},
   "outputs": [],
   "source": [
    "def get_day(day):\n",
    "    return datetime.strptime(\"2020-1-1\", \"%Y-%m-%d\") + timedelta(days=int(round(day)))"
   ]
  },
  {
   "cell_type": "markdown",
   "metadata": {},
   "source": [
    "### Grafico"
   ]
  },
  {
   "cell_type": "code",
   "execution_count": 53,
   "metadata": {
    "scrolled": true
   },
   "outputs": [
    {
     "data": {
      "image/png": "[encoded data removed]",
      "text/plain": [
       "<Figure size 864x360 with 1 Axes>"
      ]
     },
     "metadata": {
      "needs_background": "light"
     },
     "output_type": "display_data"
    }
   ],
   "source": [
    "def infection_grow(x, y):\n",
    "    plt.rc(\"font\", size=14)\n",
    "    plt.figure(figsize=(12, 5))\n",
    "    plt_axes = plt.gca()\n",
    "    plt_axes.grid(axis=\"y\", color=(0.4, 0.4, 0.4), alpha=0.2)\n",
    "    plt.stackplot(x, y, color=(0.92, 0.26, 0.21, 0.3), linewidth=0)\n",
    "    plt.plot(x, y, color=(0.92, 0.26, 0.21), linewidth=2)\n",
    "    plt.scatter(x, y, color=(0.92, 0.26, 0.21), label=\"Italia\", linewidth=3)\n",
    "    plt.xlim(int(min(x)), int(max(x) + 5))\n",
    "    plt.ylim(int(min(y)), int(max(y)) + 5)\n",
    "    plt.title(\n",
    "        \"Percentuale di crescita giornaliera in Italia da \"\n",
    "        + str(get_day(min(x)).date())\n",
    "        + \" a \"\n",
    "        + str(get_day(max(x)).date())\n",
    "    )\n",
    "    plt.xlabel(\"Giorni dall'1-1-2020\")\n",
    "    plt.ylabel(\"% Crescita\")\n",
    "    plt.legend()\n",
    "    plt.show()\n",
    "\n",
    "\n",
    "infection_grow(\n",
    "    merge[merge.tasso_crescita > 0][\"data\"].values.tolist(),\n",
    "    merge[merge.tasso_crescita > 0][\"tasso_crescita\"].values.tolist(),\n",
    ")"
   ]
  },
  {
   "cell_type": "markdown",
   "metadata": {},
   "source": [
    "## Quando raggiungeremo la fine?"
   ]
  },
  {
   "cell_type": "code",
   "execution_count": 54,
   "metadata": {},
   "outputs": [
    {
     "name": "stdout",
     "output_type": "stream",
     "text": [
      "L'epidemia finirà in data 6 settembre 2020\n",
      "Il numero dei contagiati sarà di 220183\n",
      "Il picco è stato il 2 aprile 2020\n"
     ]
    }
   ],
   "source": [
    "end_date = datetime.strptime(\"2020-1-1\", \"%Y-%m-%d\") + timedelta(days=end)\n",
    "months = [\n",
    "    \"gennaio\",\n",
    "    \"febbraio\",\n",
    "    \"marzo\",\n",
    "    \"aprile\",\n",
    "    \"maggio\",\n",
    "    \"giugno\",\n",
    "    \"luglio\",\n",
    "    \"agosto\",\n",
    "    \"settembre\",\n",
    "    \"ottobre\",\n",
    "    \"novembre\",\n",
    "    \"dicembre\",\n",
    "]\n",
    "print(\n",
    "    \"L'epidemia finirà in data \"\n",
    "    + str(end_date.day)\n",
    "    + \" \"\n",
    "    + months[end_date.month - 1]\n",
    "    + \" \"\n",
    "    + str(end_date.year)\n",
    ")\n",
    "print(\"Il numero dei contagiati sarà di \" + str(int(round(y_max))))\n",
    "\n",
    "print(\n",
    "    \"Il picco è stato il \"\n",
    "    + str(get_day(x_peak).day)\n",
    "    + \" \"\n",
    "    + months[get_day(x_peak).month - 1]\n",
    "    + \" \"\n",
    "    + str(get_day(x_peak).year)\n",
    ")"
   ]
  },
  {
   "cell_type": "markdown",
   "metadata": {},
   "source": [
    "### Osservazioni\n",
    "La curva non rappresenta fedelmente la realtà a causa delle caratteristiche della malattia, che la rendono difficilmente individuabile prima della comparsa dei primi sintomi: molte persone sono portatori asintomatici.   \n",
    "A ciò, si aggiunge l'impossibilità di fare un censimento dei contagi su tutta la popolazione, perché cambiando il criterio tutti i dati verrebbero alterati.\n",
    "\n",
    "Altro problema che rende la curva distaccata dalla realtà, sono i dati dei primi giorni. Il primo caso è stato registrato a Codogno, ma la malattia potrebbe essere stata presente in altre zone qualche settimana prima, e ciò spiegherebbe la veloce diffusione nella prima fase."
   ]
  },
  {
   "cell_type": "code",
   "execution_count": 41,
   "metadata": {},
   "outputs": [
    {
     "data": {
      "image/png": "[encoded data removed]",
      "text/plain": [
       "<Figure size 864x360 with 1 Axes>"
      ]
     },
     "metadata": {
      "needs_background": "light"
     },
     "output_type": "display_data"
    }
   ],
   "source": [
    "infection_grow(\n",
    "    data[1:7][\"data\"].values.tolist(),\n",
    "    data[1:7][\"tasso_crescita\"].values.tolist(),\n",
    ")"
   ]
  },
  {
   "cell_type": "markdown",
   "metadata": {},
   "source": [
    "#### Report Aprile\n",
    "Osservando i dati degli ultimi giorni sembra che ci stiamo avvicinando all'asintoto della resistenza ambientale. Tuttavia non significa che siamo alla fine dell'isolamento, in quanto se le persone tornassero a circolare improvvisamente potrebbe esserci una ripresa dell'epidemia."
   ]
  },
  {
   "cell_type": "markdown",
   "metadata": {},
   "source": [
    "#### Report da 4 a 17 Maggio\n",
    "Di recente è iniziata la fase 2, dove le misure del lockdown sono state allentate. Neglle ultime settimane il tasso di crescita è rimasto sotto l'1%.\n",
    "Ciò è un buon segnale, ma dovremo aspettare ancora questa settimana per confermare l'andamento."
   ]
  },
  {
   "cell_type": "code",
   "execution_count": 42,
   "metadata": {},
   "outputs": [
    {
     "data": {
      "image/png": "[encoded data removed]",
      "text/plain": [
       "<Figure size 864x360 with 1 Axes>"
      ]
     },
     "metadata": {
      "needs_background": "light"
     },
     "output_type": "display_data"
    },
    {
     "name": "stdout",
     "output_type": "stream",
     "text": [
      "Dati\n"
     ]
    }
   ],
   "source": [
    "infection_grow(\n",
    "    data[-7:84][\"data\"].values.tolist(),\n",
    "    data[-7:84][\"tasso_crescita\"].values.tolist(),\n",
    ")\n",
    "print(\"Dati\")"
   ]
  },
  {
   "cell_type": "code",
   "execution_count": null,
   "metadata": {},
   "outputs": [],
   "source": []
  },
  {
   "cell_type": "code",
   "execution_count": null,
   "metadata": {},
   "outputs": [],
   "source": []
  },
  {
   "cell_type": "code",
   "execution_count": null,
   "metadata": {},
   "outputs": [],
   "source": []
  },
  {
   "cell_type": "code",
   "execution_count": null,
   "metadata": {},
   "outputs": [],
   "source": []
  }
 ],
 "metadata": {
  "kernelspec": {
   "display_name": "Python 3",
   "language": "python",
   "name": "python3"
  },
  "language_info": {
   "codemirror_mode": {
    "name": "ipython",
    "version": 3
   },
   "file_extension": ".py",
   "mimetype": "text/x-python",
   "name": "python",
   "nbconvert_exporter": "python",
   "pygments_lexer": "ipython3",
   "version": "3.7.3"
  }
 },
 "nbformat": 4,
 "nbformat_minor": 4
}
