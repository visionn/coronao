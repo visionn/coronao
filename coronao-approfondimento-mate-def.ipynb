{
 "cells": [
  {
   "cell_type": "markdown",
   "metadata": {},
   "source": [
    "# Quando finirà il Coronavirus🦠?"
   ]
  },
  {
   "cell_type": "markdown",
   "metadata": {},
   "source": [
    "## **Grafico interattivo** del **Coronavirus** tracciato attraverso dati reali🌍 \n",
    "\n",
    "I dati🔢 provengono dalla repository ufficiale della Protezione Civile italiana e vengono aggiornati ogni giorno. https://github.com/pcm-dpc/COVID-19\n",
    "\n",
    "Costruito con Python e Jupyter Notebook"
   ]
  },
  {
   "cell_type": "code",
   "execution_count": 1,
   "metadata": {},
   "outputs": [],
   "source": [
    "import pandas as pd\n",
    "import numpy as np\n",
    "from datetime import timedelta\n",
    "from datetime import datetime\n",
    "from sklearn.metrics import mean_squared_error\n",
    "from scipy.optimize import curve_fit\n",
    "from scipy.optimize import fsolve\n",
    "import matplotlib.pyplot as plt\n",
    "%matplotlib inline"
   ]
  },
  {
   "cell_type": "markdown",
   "metadata": {},
   "source": [
    "## Recupero degli ultimi dati"
   ]
  },
  {
   "cell_type": "code",
   "execution_count": 2,
   "metadata": {},
   "outputs": [],
   "source": [
    "data = pd.read_json(\"https://raw.githubusercontent.com/pcm-dpc/COVID-19/master/dati-json/dpc-covid19-ita-andamento-nazionale.json\")"
   ]
  },
  {
   "cell_type": "code",
   "execution_count": 3,
   "metadata": {},
   "outputs": [
    {
     "name": "stdout",
     "output_type": "stream",
     "text": [
      "Dati degli ultimi sette giorni📅\n"
     ]
    },
    {
     "data": {
      "text/html": [
       "<div>\n",
       "<style scoped>\n",
       "    .dataframe tbody tr th:only-of-type {\n",
       "        vertical-align: middle;\n",
       "    }\n",
       "\n",
       "    .dataframe tbody tr th {\n",
       "        vertical-align: top;\n",
       "    }\n",
       "\n",
       "    .dataframe thead th {\n",
       "        text-align: right;\n",
       "    }\n",
       "</style>\n",
       "<table border=\"1\" class=\"dataframe\">\n",
       "  <thead>\n",
       "    <tr style=\"text-align: right;\">\n",
       "      <th></th>\n",
       "      <th>data</th>\n",
       "      <th>totale_casi</th>\n",
       "    </tr>\n",
       "  </thead>\n",
       "  <tbody>\n",
       "    <tr>\n",
       "      <th>44</th>\n",
       "      <td>98</td>\n",
       "      <td>139422</td>\n",
       "    </tr>\n",
       "    <tr>\n",
       "      <th>45</th>\n",
       "      <td>99</td>\n",
       "      <td>143626</td>\n",
       "    </tr>\n",
       "    <tr>\n",
       "      <th>46</th>\n",
       "      <td>100</td>\n",
       "      <td>147577</td>\n",
       "    </tr>\n",
       "    <tr>\n",
       "      <th>47</th>\n",
       "      <td>101</td>\n",
       "      <td>152271</td>\n",
       "    </tr>\n",
       "    <tr>\n",
       "      <th>48</th>\n",
       "      <td>102</td>\n",
       "      <td>156363</td>\n",
       "    </tr>\n",
       "    <tr>\n",
       "      <th>49</th>\n",
       "      <td>103</td>\n",
       "      <td>159516</td>\n",
       "    </tr>\n",
       "    <tr>\n",
       "      <th>50</th>\n",
       "      <td>104</td>\n",
       "      <td>162488</td>\n",
       "    </tr>\n",
       "  </tbody>\n",
       "</table>\n",
       "</div>"
      ],
      "text/plain": [
       "    data  totale_casi\n",
       "44    98       139422\n",
       "45    99       143626\n",
       "46   100       147577\n",
       "47   101       152271\n",
       "48   102       156363\n",
       "49   103       159516\n",
       "50   104       162488"
      ]
     },
     "execution_count": 3,
     "metadata": {},
     "output_type": "execute_result"
    }
   ],
   "source": [
    "data = data.loc[:,['data','totale_casi']]\n",
    "FMT = '%Y-%m-%dT%H:%M:%S'\n",
    "data['data'] = data['data'].map(lambda x : (datetime.strptime(x, FMT) - datetime.strptime(\"2020-01-01T00:00:00\", FMT)).days  )\n",
    "print(\"Dati degli ultimi sette giorni📅\")\n",
    "data[-7:]"
   ]
  },
  {
   "cell_type": "markdown",
   "metadata": {},
   "source": [
    "## Calcolo funzione logistica"
   ]
  },
  {
   "cell_type": "code",
   "execution_count": 4,
   "metadata": {},
   "outputs": [],
   "source": [
    "def logistic_model(x,a,b,c):\n",
    "    return c / (1 + np.exp(-(x - b) / a))\n",
    "\n",
    "\n",
    "x = list(data.iloc[:,0])\n",
    "y = list(data.iloc[:,1])\n",
    "fit = curve_fit(\n",
    "    logistic_model, \n",
    "    x, \n",
    "    y,\n",
    "    p0=[2,100,20000] # velocità, picco, ampiezza\n",
    ")\n",
    "\n",
    "speed, x_peak, y_max = fit[0]\n",
    "speed_error, x_peak_error, y_max_error = [np.sqrt(fit[1][i][i]) for i in [0, 1, 2]]"
   ]
  },
  {
   "cell_type": "markdown",
   "metadata": {},
   "source": [
    "### Trovo il punto dove la funzione raggiunge il picco massimo"
   ]
  },
  {
   "cell_type": "code",
   "execution_count": 5,
   "metadata": {},
   "outputs": [
    {
     "data": {
      "text/plain": [
       "192"
      ]
     },
     "execution_count": 5,
     "metadata": {},
     "output_type": "execute_result"
    }
   ],
   "source": [
    "end = int(fsolve(lambda x : logistic_model(x, speed, x_peak, y_max) - int(y_max), x_peak))\n",
    "end"
   ]
  },
  {
   "cell_type": "markdown",
   "metadata": {},
   "source": [
    "### Grafico"
   ]
  },
  {
   "cell_type": "code",
   "execution_count": 6,
   "metadata": {},
   "outputs": [
    {
     "data": {
      "image/png": "[encoded data removed]",
      "text/plain": [
       "<Figure size 504x504 with 1 Axes>"
      ]
     },
     "metadata": {
      "needs_background": "light"
     },
     "output_type": "display_data"
    }
   ],
   "source": [
    "pred_x = list(range(max(x), end))\n",
    "plt.rcParams['figure.figsize'] = [7, 7]\n",
    "plt.rc('font', size=14)\n",
    "# Real data\n",
    "plt.scatter(x,y,label=\"Dati reali\",color=\"red\")\n",
    "# Predicted logistic curve\n",
    "plt.plot(x + pred_x, [logistic_model(i,fit[0][0],fit[0][1],fit[0][2]) for i in x + pred_x], label=\"Funzione logistica\" )\n",
    "\n",
    "plt.legend()\n",
    "plt.xlabel(\"Giorni dal 1 Gennaio 2020\")\n",
    "plt.ylabel(\"Numero totale infetti\")\n",
    "plt.ylim((min(y)*0.9,y_max*1.1))\n",
    "plt.show()"
   ]
  },
  {
   "cell_type": "markdown",
   "metadata": {},
   "source": [
    "## Tasso di crescita"
   ]
  },
  {
   "cell_type": "markdown",
   "metadata": {},
   "source": [
    "### Calcolo"
   ]
  },
  {
   "cell_type": "code",
   "execution_count": 7,
   "metadata": {},
   "outputs": [
    {
     "data": {
      "text/html": [
       "<div>\n",
       "<style scoped>\n",
       "    .dataframe tbody tr th:only-of-type {\n",
       "        vertical-align: middle;\n",
       "    }\n",
       "\n",
       "    .dataframe tbody tr th {\n",
       "        vertical-align: top;\n",
       "    }\n",
       "\n",
       "    .dataframe thead th {\n",
       "        text-align: right;\n",
       "    }\n",
       "</style>\n",
       "<table border=\"1\" class=\"dataframe\">\n",
       "  <thead>\n",
       "    <tr style=\"text-align: right;\">\n",
       "      <th></th>\n",
       "      <th>data</th>\n",
       "      <th>totale_casi</th>\n",
       "      <th>differenza_giorno_precedente</th>\n",
       "      <th>tasso_crescita</th>\n",
       "    </tr>\n",
       "  </thead>\n",
       "  <tbody>\n",
       "    <tr>\n",
       "      <th>44</th>\n",
       "      <td>98</td>\n",
       "      <td>139422</td>\n",
       "      <td>3836.0</td>\n",
       "      <td>2.8</td>\n",
       "    </tr>\n",
       "    <tr>\n",
       "      <th>45</th>\n",
       "      <td>99</td>\n",
       "      <td>143626</td>\n",
       "      <td>4204.0</td>\n",
       "      <td>3.0</td>\n",
       "    </tr>\n",
       "    <tr>\n",
       "      <th>46</th>\n",
       "      <td>100</td>\n",
       "      <td>147577</td>\n",
       "      <td>3951.0</td>\n",
       "      <td>2.8</td>\n",
       "    </tr>\n",
       "    <tr>\n",
       "      <th>47</th>\n",
       "      <td>101</td>\n",
       "      <td>152271</td>\n",
       "      <td>4694.0</td>\n",
       "      <td>3.2</td>\n",
       "    </tr>\n",
       "    <tr>\n",
       "      <th>48</th>\n",
       "      <td>102</td>\n",
       "      <td>156363</td>\n",
       "      <td>4092.0</td>\n",
       "      <td>2.7</td>\n",
       "    </tr>\n",
       "    <tr>\n",
       "      <th>49</th>\n",
       "      <td>103</td>\n",
       "      <td>159516</td>\n",
       "      <td>3153.0</td>\n",
       "      <td>2.0</td>\n",
       "    </tr>\n",
       "    <tr>\n",
       "      <th>50</th>\n",
       "      <td>104</td>\n",
       "      <td>162488</td>\n",
       "      <td>2972.0</td>\n",
       "      <td>1.9</td>\n",
       "    </tr>\n",
       "  </tbody>\n",
       "</table>\n",
       "</div>"
      ],
      "text/plain": [
       "    data  totale_casi  differenza_giorno_precedente  tasso_crescita\n",
       "44    98       139422                        3836.0             2.8\n",
       "45    99       143626                        4204.0             3.0\n",
       "46   100       147577                        3951.0             2.8\n",
       "47   101       152271                        4694.0             3.2\n",
       "48   102       156363                        4092.0             2.7\n",
       "49   103       159516                        3153.0             2.0\n",
       "50   104       162488                        2972.0             1.9"
      ]
     },
     "execution_count": 7,
     "metadata": {},
     "output_type": "execute_result"
    }
   ],
   "source": [
    "data['differenza_giorno_precedente'] = data.diff()['totale_casi']\n",
    "data['tasso_crescita'] = round(data['differenza_giorno_precedente'] / (data['totale_casi'] - data['differenza_giorno_precedente']) * 100, 1)\n",
    "data[\"tasso_crescita\"].fillna(0)\n",
    "data[\"data\"].fillna(0)\n",
    "data[-7:]"
   ]
  },
  {
   "cell_type": "markdown",
   "metadata": {},
   "source": [
    "### Aggiornamento dataframe con i dati ottenuti dalla funzione logistica"
   ]
  },
  {
   "cell_type": "code",
   "execution_count": 8,
   "metadata": {},
   "outputs": [],
   "source": [
    "d = {'data': x +pred_x, 'totale_casi': [logistic_model(i,fit[0][0],fit[0][1],fit[0][2]) for i in x + pred_x]}\n",
    "df = pd.DataFrame(data=d)\n",
    "df['differenza_giorno_precedente'] = df.diff()['totale_casi']\n",
    "df['tasso_crescita'] = round(df['differenza_giorno_precedente'] / (df['totale_casi'] - df['differenza_giorno_precedente']) * 100, 1)\n",
    "merge = pd.concat([data, df[df.data > max(data[\"data\"])]])"
   ]
  },
  {
   "cell_type": "markdown",
   "metadata": {},
   "source": [
    "### Grafico"
   ]
  },
  {
   "cell_type": "code",
   "execution_count": 9,
   "metadata": {
    "scrolled": true
   },
   "outputs": [
    {
     "data": {
      "image/png": "[encoded data removed]",
      "text/plain": [
       "<Figure size 864x288 with 1 Axes>"
      ]
     },
     "metadata": {
      "needs_background": "light"
     },
     "output_type": "display_data"
    }
   ],
   "source": [
    "def infection_grow(x, y):\n",
    "    plt.rc('font', size=14)\n",
    "    plt.figure(figsize=(12, 4))\n",
    "    plt_axes = plt.gca()\n",
    "    plt_axes.grid(axis='y', color=(0.4, 0.4, 0.4), alpha=0.2)\n",
    "    plt.stackplot(x, y, color=(0.92, 0.26, 0.21, 0.3), linewidth=0)\n",
    "    plt.plot(x, y, color=(0.92, 0.26, 0.21), linewidth=2)\n",
    "    plt.scatter(x, y, color=(0.92, 0.26, 0.21), label=\"Italy\", linewidth=3)\n",
    "    plt.xlim(int(min(x)), int(max(x) + 5))\n",
    "    plt.ylim(0, int(max(y)) + 5)\n",
    "    plt.title(\"Percentuale di crescita giornaliera\")\n",
    "    plt.xlabel(\"Giorni dall'1-1-2020\")\n",
    "    plt.ylabel(\"% Crescita\")\n",
    "    plt.legend()\n",
    "    plt.show()\n",
    "infection_grow(merge[merge.tasso_crescita > 0][\"data\"].values.tolist(), merge[merge.tasso_crescita > 0][\"tasso_crescita\"].values.tolist())"
   ]
  },
  {
   "cell_type": "markdown",
   "metadata": {},
   "source": [
    "## Quando raggiungeremo la fine?"
   ]
  },
  {
   "cell_type": "code",
   "execution_count": 13,
   "metadata": {},
   "outputs": [
    {
     "name": "stdout",
     "output_type": "stream",
     "text": [
      "L'epidemia finirà in data 11 luglio 2020\n",
      "Il numero dei contagiati sarà di 167295\n",
      "Il picco è stato il 27 marzo 2020\n"
     ]
    }
   ],
   "source": [
    "end_date = datetime.strptime(\"2020-1-1\", \"%Y-%m-%d\") + timedelta(days=end)\n",
    "months = [\"gennaio\", \"febbraio\", \"marzo\", \"aprile\", \"maggio\", \"giugno\", \"luglio\", \"agosto\", \"settembre\", \"ottobre\", \"novembre\", \"dicembre\"] \n",
    "print(\"L'epidemia finirà in data \" + str(end_date.day) + \" \" + months[end_date.month - 1] + \" \" + str(end_date.year))\n",
    "print(\"Il numero dei contagiati sarà di \" + str(int(round(y_max))))\n",
    "peak_date = datetime.strptime(\"2020-1-1\", \"%Y-%m-%d\") + timedelta(days=int(round(x_peak)))\n",
    "print(\"Il picco è stato il \" + str(peak_date.day) + \" \" + months[peak_date.month - 1] + \" \" + str(peak_date.year))"
   ]
  },
  {
   "cell_type": "markdown",
   "metadata": {},
   "source": [
    "La curva non rappresenta fedelmente la realtà in quanto non è possibile verificare il numero reale degli effetti: buona parte è sconosciuta poiché molte persone sono portatori asintomatici o hanno riscontrato lievi sintomi.   \n",
    "Oltretutto se venisse deciso di effettuare tamponi a tappeto il numero dei contagi salirebbe parecchio, cambiando i valori della curva.\n",
    "\n",
    "Osservando i dati degli ultimi giorni sembra che ci stiamo avvicinando all'asintoto della resistenza ambientale. Tuttavia non significa che siamo alla fine dell'isolamento, in quanto se le persone tornassero a circolare improvvisamente potrebbe esserci una ripresa dell'epidemia."
   ]
  }
 ],
 "metadata": {
  "kernelspec": {
   "display_name": "Python 3",
   "language": "python",
   "name": "python3"
  },
  "language_info": {
   "codemirror_mode": {
    "name": "ipython",
    "version": 3
   },
   "file_extension": ".py",
   "mimetype": "text/x-python",
   "name": "python",
   "nbconvert_exporter": "python",
   "pygments_lexer": "ipython3",
   "version": "3.7.3"
  }
 },
 "nbformat": 4,
 "nbformat_minor": 4
}
