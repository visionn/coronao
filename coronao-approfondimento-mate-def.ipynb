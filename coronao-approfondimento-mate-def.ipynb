{
 "cells": [
  {
   "cell_type": "markdown",
   "metadata": {},
   "source": [
    "# Quando finirà il Coronavirus🦠?"
   ]
  },
  {
   "cell_type": "markdown",
   "metadata": {},
   "source": [
    "## **Grafico interattivo** del **Coronavirus** tracciato attraverso dati reali🌍 \n",
    "\n",
    "I dati🔢 provengono dalla repository ufficiale della Protezione Civile italiana e vengono aggiornati ogni giorno. https://github.com/pcm-dpc/COVID-19\n",
    "\n",
    "Costruito con Python e Jupyter Notebook"
   ]
  },
  {
   "cell_type": "code",
   "execution_count": 32,
   "metadata": {},
   "outputs": [],
   "source": [
    "import pandas as pd\n",
    "import numpy as np\n",
    "from datetime import timedelta\n",
    "from datetime import datetime\n",
    "from sklearn.metrics import mean_squared_error\n",
    "from scipy.optimize import curve_fit\n",
    "from scipy.optimize import fsolve\n",
    "import matplotlib.pyplot as plt\n",
    "%matplotlib inline"
   ]
  },
  {
   "cell_type": "markdown",
   "metadata": {},
   "source": [
    "## Recupero degli ultimi dati"
   ]
  },
  {
   "cell_type": "code",
   "execution_count": 33,
   "metadata": {},
   "outputs": [],
   "source": [
    "data_italy = pd.read_json(\"https://raw.githubusercontent.com/pcm-dpc/COVID-19/master/dati-json/dpc-covid19-ita-andamento-nazionale.json\")"
   ]
  },
  {
   "cell_type": "code",
   "execution_count": 34,
   "metadata": {},
   "outputs": [
    {
     "name": "stdout",
     "output_type": "stream",
     "text": [
      "Dati degli ultimi sette giorni📅\n"
     ]
    },
    {
     "data": {
      "text/html": [
       "<div>\n",
       "<style scoped>\n",
       "    .dataframe tbody tr th:only-of-type {\n",
       "        vertical-align: middle;\n",
       "    }\n",
       "\n",
       "    .dataframe tbody tr th {\n",
       "        vertical-align: top;\n",
       "    }\n",
       "\n",
       "    .dataframe thead th {\n",
       "        text-align: right;\n",
       "    }\n",
       "</style>\n",
       "<table border=\"1\" class=\"dataframe\">\n",
       "  <thead>\n",
       "    <tr style=\"text-align: right;\">\n",
       "      <th></th>\n",
       "      <th>data</th>\n",
       "      <th>totale_casi</th>\n",
       "      <th>differenza_giorno_precedente</th>\n",
       "      <th>tasso_crescita</th>\n",
       "    </tr>\n",
       "  </thead>\n",
       "  <tbody>\n",
       "    <tr>\n",
       "      <th>74</th>\n",
       "      <td>128</td>\n",
       "      <td>217185</td>\n",
       "      <td>1327.0</td>\n",
       "      <td>0.6</td>\n",
       "    </tr>\n",
       "    <tr>\n",
       "      <th>75</th>\n",
       "      <td>129</td>\n",
       "      <td>218268</td>\n",
       "      <td>1083.0</td>\n",
       "      <td>0.5</td>\n",
       "    </tr>\n",
       "    <tr>\n",
       "      <th>76</th>\n",
       "      <td>130</td>\n",
       "      <td>219070</td>\n",
       "      <td>802.0</td>\n",
       "      <td>0.4</td>\n",
       "    </tr>\n",
       "    <tr>\n",
       "      <th>77</th>\n",
       "      <td>131</td>\n",
       "      <td>219814</td>\n",
       "      <td>744.0</td>\n",
       "      <td>0.3</td>\n",
       "    </tr>\n",
       "    <tr>\n",
       "      <th>78</th>\n",
       "      <td>132</td>\n",
       "      <td>221216</td>\n",
       "      <td>1402.0</td>\n",
       "      <td>0.6</td>\n",
       "    </tr>\n",
       "    <tr>\n",
       "      <th>79</th>\n",
       "      <td>133</td>\n",
       "      <td>222104</td>\n",
       "      <td>888.0</td>\n",
       "      <td>0.4</td>\n",
       "    </tr>\n",
       "    <tr>\n",
       "      <th>80</th>\n",
       "      <td>134</td>\n",
       "      <td>223096</td>\n",
       "      <td>992.0</td>\n",
       "      <td>0.4</td>\n",
       "    </tr>\n",
       "  </tbody>\n",
       "</table>\n",
       "</div>"
      ],
      "text/plain": [
       "    data  totale_casi  differenza_giorno_precedente  tasso_crescita\n",
       "74   128       217185                        1327.0             0.6\n",
       "75   129       218268                        1083.0             0.5\n",
       "76   130       219070                         802.0             0.4\n",
       "77   131       219814                         744.0             0.3\n",
       "78   132       221216                        1402.0             0.6\n",
       "79   133       222104                         888.0             0.4\n",
       "80   134       223096                         992.0             0.4"
      ]
     },
     "execution_count": 34,
     "metadata": {},
     "output_type": "execute_result"
    }
   ],
   "source": [
    "data_italy = data_italy.loc[:,['data','totale_casi']]\n",
    "FMT = '%Y-%m-%dT%H:%M:%S'\n",
    "data_italy['data'] = data_italy['data'].map(lambda x : (datetime.strptime(x, FMT) - datetime.strptime(\"2020-01-01T00:00:00\", FMT)).days)\n",
    "print(\"Dati degli ultimi sette giorni📅\")\n",
    "data[-7:]"
   ]
  },
  {
   "cell_type": "markdown",
   "metadata": {},
   "source": [
    "## Calcolo funzione logistica"
   ]
  },
  {
   "cell_type": "markdown",
   "metadata": {},
   "source": [
    "### La funzione utilizzata è una funzione sigmoidale\n",
    "$$f(x; a, b, c) = \\frac{c}{1 + e ^ -\\dfrac{x - b}{a}}$$\n",
    "\n",
    "**Vengono passati tre parametri:**\n",
    "- **a**: Velocità dell'infezione (inizialmente 1)\n",
    "- **b**: Il giorno del massimo delle infezioni\n",
    "- **c**: Il numero totale di persone infette\n",
    "\n",
    "La funzione è ricorsiva, ovvero richiama se stessa all'infinito fino a quando non si raggiunge un valore minimo -nel nostro caso 0, che corrisponde al totale appiattimento della curva."
   ]
  },
  {
   "cell_type": "code",
   "execution_count": 35,
   "metadata": {},
   "outputs": [],
   "source": [
    "def logistic_model(x, a, b, c):\n",
    "    return c / (1 + np.exp(-(x - b) / a))"
   ]
  },
  {
   "cell_type": "code",
   "execution_count": 48,
   "metadata": {},
   "outputs": [],
   "source": [
    "x = list(data.iloc[:,0])\n",
    "y = list(data.iloc[:,1])\n",
    "fit = curve_fit(\n",
    "    logistic_model, \n",
    "    x, \n",
    "    y,\n",
    "    p0=[1,max(x),max(y)]\n",
    ")\n",
    "\n",
    "speed, x_peak, y_max = fit[0]"
   ]
  },
  {
   "cell_type": "markdown",
   "metadata": {},
   "source": [
    "### Trovo il picco"
   ]
  },
  {
   "cell_type": "markdown",
   "metadata": {},
   "source": [
    "Dalla funzione logistica sono stati ricavati tre vettori che rappresentano l'andamento della curva giorno per giorno: \n",
    "- Velocità di crescita (speed)\n",
    "- Punto di massimo sull'asse X (x_peak)\n",
    "- Punto di massimo sull'asse Y (y_peak)"
   ]
  },
  {
   "cell_type": "code",
   "execution_count": 49,
   "metadata": {},
   "outputs": [
    {
     "data": {
      "text/plain": [
       "223"
      ]
     },
     "execution_count": 49,
     "metadata": {},
     "output_type": "execute_result"
    }
   ],
   "source": [
    "end = int(fsolve(lambda x : logistic_model(x, speed, x_peak, y_max) - int(y_max), x_peak))\n",
    "end"
   ]
  },
  {
   "cell_type": "markdown",
   "metadata": {},
   "source": [
    "### Grafico"
   ]
  },
  {
   "cell_type": "code",
   "execution_count": 50,
   "metadata": {},
   "outputs": [
    {
     "data": {
      "image/png": "[encoded data removed]",
      "text/plain": [
       "<Figure size 504x504 with 1 Axes>"
      ]
     },
     "metadata": {
      "needs_background": "light"
     },
     "output_type": "display_data"
    }
   ],
   "source": [
    "def plot_curve():\n",
    "    pred_x = list(range(max(x), end))\n",
    "    plt.rcParams['figure.figsize'] = [7, 7]\n",
    "    plt.rc('font', size=14)\n",
    "    # Real data\n",
    "    plt.scatter(x,y,label=\"Dati reali\",color=\"red\")\n",
    "    # Predicted logistic curve\n",
    "    plt.plot(x + pred_x, [logistic_model(i,fit[0][0],fit[0][1],fit[0][2]) for i in x + pred_x],linewidth=3, label=\"Funzione logistica\" )\n",
    "    plt.axhline(y=max([logistic_model(i,fit[0][0],fit[0][1],fit[0][2]) for i in x + pred_x]), color='blue', linestyle='dashed', alpha=0.7, linewidth=1.5, label='Limite naturale')\n",
    "\n",
    "    plt.legend()\n",
    "    plt.xlabel(\"Giorni dal 1 Gennaio 2020\")\n",
    "    plt.ylabel(\"Numero totale infetti\")\n",
    "    plt.title(\"Curva logistica\")\n",
    "    plt.ylim((min(y)*0.9,y_max*1.1))\n",
    "    plt.show()\n",
    "plot_curve()"
   ]
  },
  {
   "cell_type": "markdown",
   "metadata": {},
   "source": [
    "Potete osservare che la curva è formata da due rami: uno esponenziale (parte bassa) e uno logaritmico (parte alta). La funzione cambia concavità nel punto di flesso nel centro della funzione\n"
   ]
  },
  {
   "cell_type": "markdown",
   "metadata": {},
   "source": [
    "## Tasso di crescita"
   ]
  },
  {
   "cell_type": "markdown",
   "metadata": {},
   "source": [
    "### Calcolo"
   ]
  },
  {
   "cell_type": "code",
   "execution_count": 51,
   "metadata": {},
   "outputs": [
    {
     "data": {
      "text/html": [
       "<div>\n",
       "<style scoped>\n",
       "    .dataframe tbody tr th:only-of-type {\n",
       "        vertical-align: middle;\n",
       "    }\n",
       "\n",
       "    .dataframe tbody tr th {\n",
       "        vertical-align: top;\n",
       "    }\n",
       "\n",
       "    .dataframe thead th {\n",
       "        text-align: right;\n",
       "    }\n",
       "</style>\n",
       "<table border=\"1\" class=\"dataframe\">\n",
       "  <thead>\n",
       "    <tr style=\"text-align: right;\">\n",
       "      <th></th>\n",
       "      <th>data</th>\n",
       "      <th>totale_casi</th>\n",
       "      <th>differenza_giorno_precedente</th>\n",
       "      <th>tasso_crescita</th>\n",
       "    </tr>\n",
       "  </thead>\n",
       "  <tbody>\n",
       "    <tr>\n",
       "      <th>74</th>\n",
       "      <td>128</td>\n",
       "      <td>217185</td>\n",
       "      <td>1327.0</td>\n",
       "      <td>0.6</td>\n",
       "    </tr>\n",
       "    <tr>\n",
       "      <th>75</th>\n",
       "      <td>129</td>\n",
       "      <td>218268</td>\n",
       "      <td>1083.0</td>\n",
       "      <td>0.5</td>\n",
       "    </tr>\n",
       "    <tr>\n",
       "      <th>76</th>\n",
       "      <td>130</td>\n",
       "      <td>219070</td>\n",
       "      <td>802.0</td>\n",
       "      <td>0.4</td>\n",
       "    </tr>\n",
       "    <tr>\n",
       "      <th>77</th>\n",
       "      <td>131</td>\n",
       "      <td>219814</td>\n",
       "      <td>744.0</td>\n",
       "      <td>0.3</td>\n",
       "    </tr>\n",
       "    <tr>\n",
       "      <th>78</th>\n",
       "      <td>132</td>\n",
       "      <td>221216</td>\n",
       "      <td>1402.0</td>\n",
       "      <td>0.6</td>\n",
       "    </tr>\n",
       "    <tr>\n",
       "      <th>79</th>\n",
       "      <td>133</td>\n",
       "      <td>222104</td>\n",
       "      <td>888.0</td>\n",
       "      <td>0.4</td>\n",
       "    </tr>\n",
       "    <tr>\n",
       "      <th>80</th>\n",
       "      <td>134</td>\n",
       "      <td>223096</td>\n",
       "      <td>992.0</td>\n",
       "      <td>0.4</td>\n",
       "    </tr>\n",
       "  </tbody>\n",
       "</table>\n",
       "</div>"
      ],
      "text/plain": [
       "    data  totale_casi  differenza_giorno_precedente  tasso_crescita\n",
       "74   128       217185                        1327.0             0.6\n",
       "75   129       218268                        1083.0             0.5\n",
       "76   130       219070                         802.0             0.4\n",
       "77   131       219814                         744.0             0.3\n",
       "78   132       221216                        1402.0             0.6\n",
       "79   133       222104                         888.0             0.4\n",
       "80   134       223096                         992.0             0.4"
      ]
     },
     "execution_count": 51,
     "metadata": {},
     "output_type": "execute_result"
    }
   ],
   "source": [
    "data['differenza_giorno_precedente'] = data.diff()['totale_casi']\n",
    "data['tasso_crescita'] = round(data['differenza_giorno_precedente'] / (data['totale_casi'] - data['differenza_giorno_precedente']) * 100, 1)\n",
    "data[\"tasso_crescita\"].fillna(0)\n",
    "data[\"data\"].fillna(0)\n",
    "data[-7:]"
   ]
  },
  {
   "cell_type": "markdown",
   "metadata": {},
   "source": [
    "### Aggiornamento dataframe con i dati ottenuti dalla funzione logistica"
   ]
  },
  {
   "cell_type": "code",
   "execution_count": 52,
   "metadata": {},
   "outputs": [],
   "source": [
    "d = {'data': x +pred_x, 'totale_casi': [logistic_model(i,fit[0][0],fit[0][1],fit[0][2]) for i in x + pred_x]}\n",
    "df = pd.DataFrame(data=d)\n",
    "df['differenza_giorno_precedente'] = df.diff()['totale_casi']\n",
    "df['tasso_crescita'] = round(df['differenza_giorno_precedente'] / (df['totale_casi'] - df['differenza_giorno_precedente']) * 100, 1)\n",
    "merge = pd.concat([data, df[df.data > max(data[\"data\"])]])"
   ]
  },
  {
   "cell_type": "markdown",
   "metadata": {},
   "source": [
    "### Grafico"
   ]
  },
  {
   "cell_type": "code",
   "execution_count": 53,
   "metadata": {
    "scrolled": true
   },
   "outputs": [
    {
     "data": {
      "image/png": "[encoded data removed]",
      "text/plain": [
       "<Figure size 864x288 with 1 Axes>"
      ]
     },
     "metadata": {
      "needs_background": "light"
     },
     "output_type": "display_data"
    }
   ],
   "source": [
    "def infection_grow(x, y):\n",
    "    plt.rc('font', size=14)\n",
    "    plt.figure(figsize=(12, 4))\n",
    "    plt_axes = plt.gca()\n",
    "    plt_axes.grid(axis='y', color=(0.4, 0.4, 0.4), alpha=0.2)\n",
    "    plt.stackplot(x, y, color=(0.92, 0.26, 0.21, 0.3), linewidth=0)\n",
    "    plt.plot(x, y, color=(0.92, 0.26, 0.21), linewidth=2)\n",
    "    plt.scatter(x, y, color=(0.92, 0.26, 0.21), label=\"Italia\", linewidth=3)\n",
    "    plt.xlim(int(min(x)), int(max(x) + 5))\n",
    "    plt.ylim(0, int(max(y)) + 5)\n",
    "    plt.title(\"Percentuale di crescita giornaliera\")\n",
    "    plt.xlabel(\"Giorni dall'1-1-2020\")\n",
    "    plt.ylabel(\"% Crescita\")\n",
    "    plt.legend()\n",
    "    plt.show()\n",
    "infection_grow(merge[merge.tasso_crescita > 0][\"data\"].values.tolist(), merge[merge.tasso_crescita > 0][\"tasso_crescita\"].values.tolist())"
   ]
  },
  {
   "cell_type": "markdown",
   "metadata": {},
   "source": [
    "## Quando raggiungeremo la fine?"
   ]
  },
  {
   "cell_type": "code",
   "execution_count": 54,
   "metadata": {},
   "outputs": [
    {
     "name": "stdout",
     "output_type": "stream",
     "text": [
      "L'epidemia finirà in data 11 agosto 2020\n",
      "Il numero dei contagiati sarà di 218146\n",
      "Il picco è stato il 2 aprile 2020\n"
     ]
    }
   ],
   "source": [
    "end_date = datetime.strptime(\"2020-1-1\", \"%Y-%m-%d\") + timedelta(days=end)\n",
    "months = [\"gennaio\", \"febbraio\", \"marzo\", \"aprile\", \"maggio\", \"giugno\", \"luglio\", \"agosto\", \"settembre\", \"ottobre\", \"novembre\", \"dicembre\"] \n",
    "print(\"L'epidemia finirà in data \" + str(end_date.day) + \" \" + months[end_date.month - 1] + \" \" + str(end_date.year))\n",
    "print(\"Il numero dei contagiati sarà di \" + str(int(round(y_max))))\n",
    "peak_date = datetime.strptime(\"2020-1-1\", \"%Y-%m-%d\") + timedelta(days=int(round(x_peak)))\n",
    "print(\"Il picco è stato il \" + str(peak_date.day) + \" \" + months[peak_date.month - 1] + \" \" + str(peak_date.year))"
   ]
  },
  {
   "cell_type": "markdown",
   "metadata": {},
   "source": [
    "La curva non rappresenta fedelmente la realtà in quanto non è possibile verificare il numero reale degli effetti: buona parte è sconosciuta poiché molte persone sono portatori asintomatici o hanno riscontrato lievi sintomi.   \n",
    "Oltretutto se venisse deciso di effettuare tamponi a tappeto il numero dei contagi salirebbe parecchio, cambiando i valori della curva.\n",
    "\n",
    "Osservando i dati degli ultimi giorni sembra che ci stiamo avvicinando all'asintoto della resistenza ambientale. Tuttavia non significa che siamo alla fine dell'isolamento, in quanto se le persone tornassero a circolare improvvisamente potrebbe esserci una ripresa dell'epidemia."
   ]
  }
 ],
 "metadata": {
  "kernelspec": {
   "display_name": "Python 3",
   "language": "python",
   "name": "python3"
  },
  "language_info": {
   "codemirror_mode": {
    "name": "ipython",
    "version": 3
   },
   "file_extension": ".py",
   "mimetype": "text/x-python",
   "name": "python",
   "nbconvert_exporter": "python",
   "pygments_lexer": "ipython3",
   "version": "3.7.3"
  }
 },
 "nbformat": 4,
 "nbformat_minor": 4
}
